{
 "cells": [
  {
   "cell_type": "code",
   "execution_count": 1,
   "metadata": {},
   "outputs": [],
   "source": [
    "import win32com.client\n",
    "import subprocess\n",
    "import time\n",
    "\n",
    "def saplogin():\n",
    "    path = r\"C:\\Program Files (x86)\\SAP\\FrontEnd\\SAPgui\\saplogon.exe\"\n",
    "    sap = subprocess.Popen(path)\n",
    "\n",
    "    # Connects SAP GUI\n",
    "    SapGuiAuto = win32com.client.GetObject(\"SAPGUI\") #Get currrent open SAP interface\n",
    "    application = SapGuiAuto.GetscriptingEngine\n",
    "    try:\n",
    "        connection = application.Children(0)\n",
    "        session = connection.Children(0)\n",
    "        print(\"SAP GUI is now connected with the existing session in: {}\".format(session.Info.SystemName))\n",
    "    except:\n",
    "        connection = application.OpenConnection(\"(001)   SAP NXP S4HANA Production S4P\", True)\n",
    "        print(\"SAP GUI is now newly triggered in: S4P!!!\")\n",
    "    session = connection.Children(0)\n",
    "    \n",
    "    # Show SAP GUI status\n",
    "    session.findById(\"wnd[0]\").maximize()\n",
    "    status_msg = session.findById(\"wnd[0]/sbar\").text\n",
    "    print(\">>> Status: {}\".format(status_msg))\n",
    "\n",
    "    # Close SAP GUI\n",
    "    time.sleep(3)\n",
    "    print(\"\\n>>>>> Start with SAP GUI opening <<<<<\")\n",
    "    connection.CloseSession(\"ses[0]\")\n",
    "    print(\">>>>> End with SAP GUI closing <<<<<\")\n",
    "\n"
   ]
  },
  {
   "cell_type": "code",
   "execution_count": 2,
   "metadata": {},
   "outputs": [
    {
     "name": "stdout",
     "output_type": "stream",
     "text": [
      "SAP GUI is now connected with the existing session in: S4P\n",
      ">>> Status: \n",
      "\n",
      ">>>>> Start with SAP GUI opening <<<<<\n",
      ">>>>> End with SAP GUI closing <<<<<\n"
     ]
    }
   ],
   "source": [
    "if __name__=='__main__':\n",
    "    saplogin()"
   ]
  },
  {
   "cell_type": "code",
   "execution_count": 4,
   "metadata": {},
   "outputs": [],
   "source": [
    "import win32com.client\n",
    "import subprocess\n",
    "import time\n",
    "\n",
    "\n",
    "SapGuiAuto = win32com.client.GetObject(\"SAPGUI\") #Get currrent open SAP interface\n",
    "application = SapGuiAuto.GetscriptingEngine\n",
    "connection = application.Children(0)\n",
    "session = connection.Children(0)"
   ]
  },
  {
   "cell_type": "code",
   "execution_count": 5,
   "metadata": {},
   "outputs": [],
   "source": [
    "session.findById(\"wnd[0]\").close()"
   ]
  },
  {
   "cell_type": "code",
   "execution_count": null,
   "metadata": {},
   "outputs": [],
   "source": []
  }
 ],
 "metadata": {
  "kernelspec": {
   "display_name": "PBI",
   "language": "python",
   "name": "python3"
  },
  "language_info": {
   "codemirror_mode": {
    "name": "ipython",
    "version": 3
   },
   "file_extension": ".py",
   "mimetype": "text/x-python",
   "name": "python",
   "nbconvert_exporter": "python",
   "pygments_lexer": "ipython3",
   "version": "3.9.7"
  }
 },
 "nbformat": 4,
 "nbformat_minor": 2
}
